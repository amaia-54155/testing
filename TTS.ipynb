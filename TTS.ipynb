{
 "cells": [
  {
   "cell_type": "code",
   "execution_count": 1,
   "id": "6d06fd63-3d0b-419e-9a36-c6a52f1120ae",
   "metadata": {},
   "outputs": [
    {
     "name": "stdout",
     "output_type": "stream",
     "text": [
      "Collecting gTTS\n",
      "  Downloading gTTS-2.3.1-py3-none-any.whl (28 kB)\n",
      "Requirement already satisfied: requests<3,>=2.27 in c:\\users\\jinro\\anaconda3\\envs\\testing\\lib\\site-packages (from gTTS) (2.28.1)\n",
      "Collecting click<8.2,>=7.1\n",
      "  Using cached click-8.1.3-py3-none-any.whl (96 kB)\n",
      "Requirement already satisfied: colorama in c:\\users\\jinro\\anaconda3\\envs\\testing\\lib\\site-packages (from click<8.2,>=7.1->gTTS) (0.4.6)\n",
      "Requirement already satisfied: idna<4,>=2.5 in c:\\users\\jinro\\anaconda3\\envs\\testing\\lib\\site-packages (from requests<3,>=2.27->gTTS) (3.4)\n",
      "Requirement already satisfied: charset-normalizer<3,>=2 in c:\\users\\jinro\\anaconda3\\envs\\testing\\lib\\site-packages (from requests<3,>=2.27->gTTS) (2.0.4)\n",
      "Requirement already satisfied: urllib3<1.27,>=1.21.1 in c:\\users\\jinro\\anaconda3\\envs\\testing\\lib\\site-packages (from requests<3,>=2.27->gTTS) (1.26.14)\n",
      "Requirement already satisfied: certifi>=2017.4.17 in c:\\users\\jinro\\anaconda3\\envs\\testing\\lib\\site-packages (from requests<3,>=2.27->gTTS) (2022.12.7)\n",
      "Installing collected packages: click, gTTS\n",
      "Successfully installed click-8.1.3 gTTS-2.3.1\n",
      "Note: you may need to restart the kernel to use updated packages.\n"
     ]
    }
   ],
   "source": [
    "pip install gTTS"
   ]
  },
  {
   "cell_type": "code",
   "execution_count": 2,
   "id": "6a91f52f-178a-42c7-b9b3-fe6e0e7bca98",
   "metadata": {},
   "outputs": [],
   "source": [
    "from gtts import gTTS"
   ]
  },
  {
   "cell_type": "code",
   "execution_count": 3,
   "id": "bef1841e-19a3-48d5-a544-8a59038ffa70",
   "metadata": {},
   "outputs": [],
   "source": [
    "text = \"This class is really boaring\"\n",
    "\n",
    "tts = gTTS(text.lower(), lang=\"en\", slow=False)\n",
    "tts.save('hello.mp3')"
   ]
  },
  {
   "cell_type": "code",
   "execution_count": 4,
   "id": "17ab62f3-34cb-46ea-98a0-069f2c947500",
   "metadata": {},
   "outputs": [
    {
     "data": {
      "text/html": [
       "\n",
       "                <audio  controls=\"controls\" >\n",
       "                    <source src=\"data:audio/mpeg;base64,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\" type=\"audio/mpeg\" />\n",
       "                    Your browser does not support the audio element.\n",
       "                </audio>\n",
       "              "
      ],
      "text/plain": [
       "<IPython.lib.display.Audio object>"
      ]
     },
     "execution_count": 4,
     "metadata": {},
     "output_type": "execute_result"
    }
   ],
   "source": [
    "import IPython\n",
    "IPython.display.Audio(\"hello.mp3\")"
   ]
  },
  {
   "cell_type": "code",
   "execution_count": 5,
   "id": "5dffce90-8cfd-4357-85b0-72efa2348c89",
   "metadata": {},
   "outputs": [
    {
     "name": "stdout",
     "output_type": "stream",
     "text": [
      "Requirement already satisfied: translate in c:\\users\\jinro\\anaconda3\\envs\\testing\\lib\\site-packages (3.6.1)\n",
      "Requirement already satisfied: lxml in c:\\users\\jinro\\anaconda3\\envs\\testing\\lib\\site-packages (from translate) (4.9.1)\n",
      "Requirement already satisfied: libretranslatepy==2.1.1 in c:\\users\\jinro\\anaconda3\\envs\\testing\\lib\\site-packages (from translate) (2.1.1)\n",
      "Requirement already satisfied: click in c:\\users\\jinro\\anaconda3\\envs\\testing\\lib\\site-packages (from translate) (8.1.3)\n",
      "Requirement already satisfied: requests in c:\\users\\jinro\\anaconda3\\envs\\testing\\lib\\site-packages (from translate) (2.28.1)\n",
      "Requirement already satisfied: colorama in c:\\users\\jinro\\anaconda3\\envs\\testing\\lib\\site-packages (from click->translate) (0.4.6)\n",
      "Requirement already satisfied: urllib3<1.27,>=1.21.1 in c:\\users\\jinro\\anaconda3\\envs\\testing\\lib\\site-packages (from requests->translate) (1.26.14)\n",
      "Requirement already satisfied: certifi>=2017.4.17 in c:\\users\\jinro\\anaconda3\\envs\\testing\\lib\\site-packages (from requests->translate) (2022.12.7)\n",
      "Requirement already satisfied: charset-normalizer<3,>=2 in c:\\users\\jinro\\anaconda3\\envs\\testing\\lib\\site-packages (from requests->translate) (2.0.4)\n",
      "Requirement already satisfied: idna<4,>=2.5 in c:\\users\\jinro\\anaconda3\\envs\\testing\\lib\\site-packages (from requests->translate) (2.10)\n",
      "Note: you may need to restart the kernel to use updated packages.\n"
     ]
    }
   ],
   "source": [
    "pip install translate"
   ]
  },
  {
   "cell_type": "code",
   "execution_count": 6,
   "id": "0aeb9077-66a6-4add-b4fd-c426181aeed7",
   "metadata": {},
   "outputs": [
    {
     "name": "stdout",
     "output_type": "stream",
     "text": [
      "Requirement already satisfied: googletrans==3.1.0a0 in c:\\users\\jinro\\anaconda3\\envs\\testing\\lib\\site-packages (3.1.0a0)\n",
      "Requirement already satisfied: httpx==0.13.3 in c:\\users\\jinro\\anaconda3\\envs\\testing\\lib\\site-packages (from googletrans==3.1.0a0) (0.13.3)\n",
      "Requirement already satisfied: chardet==3.* in c:\\users\\jinro\\anaconda3\\envs\\testing\\lib\\site-packages (from httpx==0.13.3->googletrans==3.1.0a0) (3.0.4)\n",
      "Requirement already satisfied: certifi in c:\\users\\jinro\\anaconda3\\envs\\testing\\lib\\site-packages (from httpx==0.13.3->googletrans==3.1.0a0) (2022.12.7)\n",
      "Requirement already satisfied: idna==2.* in c:\\users\\jinro\\anaconda3\\envs\\testing\\lib\\site-packages (from httpx==0.13.3->googletrans==3.1.0a0) (2.10)\n",
      "Requirement already satisfied: httpcore==0.9.* in c:\\users\\jinro\\anaconda3\\envs\\testing\\lib\\site-packages (from httpx==0.13.3->googletrans==3.1.0a0) (0.9.1)\n",
      "Requirement already satisfied: rfc3986<2,>=1.3 in c:\\users\\jinro\\anaconda3\\envs\\testing\\lib\\site-packages (from httpx==0.13.3->googletrans==3.1.0a0) (1.5.0)\n",
      "Requirement already satisfied: hstspreload in c:\\users\\jinro\\anaconda3\\envs\\testing\\lib\\site-packages (from httpx==0.13.3->googletrans==3.1.0a0) (2023.1.1)\n",
      "Requirement already satisfied: sniffio in c:\\users\\jinro\\anaconda3\\envs\\testing\\lib\\site-packages (from httpx==0.13.3->googletrans==3.1.0a0) (1.2.0)\n",
      "Requirement already satisfied: h11<0.10,>=0.8 in c:\\users\\jinro\\anaconda3\\envs\\testing\\lib\\site-packages (from httpcore==0.9.*->httpx==0.13.3->googletrans==3.1.0a0) (0.9.0)\n",
      "Requirement already satisfied: h2==3.* in c:\\users\\jinro\\anaconda3\\envs\\testing\\lib\\site-packages (from httpcore==0.9.*->httpx==0.13.3->googletrans==3.1.0a0) (3.2.0)\n",
      "Requirement already satisfied: hyperframe<6,>=5.2.0 in c:\\users\\jinro\\anaconda3\\envs\\testing\\lib\\site-packages (from h2==3.*->httpcore==0.9.*->httpx==0.13.3->googletrans==3.1.0a0) (5.2.0)\n",
      "Requirement already satisfied: hpack<4,>=3.0 in c:\\users\\jinro\\anaconda3\\envs\\testing\\lib\\site-packages (from h2==3.*->httpcore==0.9.*->httpx==0.13.3->googletrans==3.1.0a0) (3.0.0)\n",
      "Note: you may need to restart the kernel to use updated packages.\n"
     ]
    }
   ],
   "source": [
    "pip install googletrans==3.1.0a0"
   ]
  },
  {
   "cell_type": "code",
   "execution_count": 15,
   "id": "6d9e6bcc-a726-453d-a881-7bb4fd9d3fb7",
   "metadata": {},
   "outputs": [],
   "source": [
    "# using googletrans\n",
    "from googletrans import Translator\n",
    "translator = Translator()\n",
    "translated_text = translator.translate(text, dest=\"es\").text"
   ]
  },
  {
   "cell_type": "code",
   "execution_count": 16,
   "id": "41771981-1944-4e4a-8162-cdfaf842e214",
   "metadata": {},
   "outputs": [],
   "source": [
    "tts = gTTS(translated_text.lower(), lang=\"es\", slow=False)\n",
    "tts.save('hello_es.mp3')"
   ]
  },
  {
   "cell_type": "code",
   "execution_count": 17,
   "id": "bc6cdaaf-0b7b-4afb-9add-cb55ad4fef04",
   "metadata": {},
   "outputs": [
    {
     "data": {
      "text/html": [
       "\n",
       "                <audio  controls=\"controls\" >\n",
       "                    <source src=\"data:audio/mpeg;base64,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\" type=\"audio/mpeg\" />\n",
       "                    Your browser does not support the audio element.\n",
       "                </audio>\n",
       "              "
      ],
      "text/plain": [
       "<IPython.lib.display.Audio object>"
      ]
     },
     "execution_count": 17,
     "metadata": {},
     "output_type": "execute_result"
    }
   ],
   "source": [
    "IPython.display.Audio(\"hello_es.mp3\")"
   ]
  },
  {
   "cell_type": "code",
   "execution_count": 28,
   "id": "ae6ce1cd-a3ed-464a-9830-1203e03ecc83",
   "metadata": {},
   "outputs": [],
   "source": [
    "def translate_and_play(text, lang, outputname = \"output.mp3\"):\n",
    "    translated_text = translator.translate(text, dest=lang).text\n",
    "    tts = gTTS(translated_text.lower(), lang=lang, slow=False)\n",
    "    tts.save(outputname)\n",
    "    print(text + \" = \" + translated_text+\"\\n\")\n",
    "    return IPython.display.Audio(outputname)"
   ]
  },
  {
   "cell_type": "code",
   "execution_count": 29,
   "id": "cf7ffde8-0594-474c-ad25-cdb4e4c6f56a",
   "metadata": {},
   "outputs": [
    {
     "name": "stdout",
     "output_type": "stream",
     "text": [
      "hola que tal estas = Hallo, wie geht's dir\n",
      "\n"
     ]
    },
    {
     "data": {
      "text/html": [
       "\n",
       "                <audio  controls=\"controls\" >\n",
       "                    <source src=\"data:audio/mpeg;base64,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\" type=\"audio/mpeg\" />\n",
       "                    Your browser does not support the audio element.\n",
       "                </audio>\n",
       "              "
      ],
      "text/plain": [
       "<IPython.lib.display.Audio object>"
      ]
     },
     "execution_count": 29,
     "metadata": {},
     "output_type": "execute_result"
    }
   ],
   "source": [
    "translate_and_play(\"hola que tal estas\", \"de\")"
   ]
  }
 ],
 "metadata": {
  "kernelspec": {
   "display_name": "Python 3 (ipykernel)",
   "language": "python",
   "name": "python3"
  },
  "language_info": {
   "codemirror_mode": {
    "name": "ipython",
    "version": 3
   },
   "file_extension": ".py",
   "mimetype": "text/x-python",
   "name": "python",
   "nbconvert_exporter": "python",
   "pygments_lexer": "ipython3",
   "version": "3.9.16"
  }
 },
 "nbformat": 4,
 "nbformat_minor": 5
}
